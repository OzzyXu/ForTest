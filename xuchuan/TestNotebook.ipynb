{
 "cells": [
  {
   "cell_type": "code",
   "execution_count": 31,
   "metadata": {
    "collapsed": false
   },
   "outputs": [
    {
     "name": "stdout",
     "output_type": "stream",
     "text": [
      "(5,)\n          a         b         c          d         e\n0       NaN       NaN       NaN        NaN       NaN\n1 -2.432695 -3.288493 -0.219119   1.921820 -0.681821\n2 -1.832471 -0.339944  0.759742  -0.966087 -3.919784\n3 -0.633387 -2.052347 -1.528437  20.525279 -0.294470\n4 -4.884984 -1.815123 -1.534335  -1.443625 -3.236219\na   -2.445884\nb   -1.873977\nc   -0.630537\nd    5.009347\ne   -2.033074\ndtype: float64\n"
     ]
    },
    {
     "data": {
      "text/html": [
       "<div>\n",
       "<table border=\"1\" class=\"dataframe\">\n",
       "  <thead>\n",
       "    <tr style=\"text-align: right;\">\n",
       "      <th></th>\n",
       "      <th>a</th>\n",
       "      <th>b</th>\n",
       "      <th>c</th>\n",
       "      <th>d</th>\n",
       "      <th>e</th>\n",
       "    </tr>\n",
       "  </thead>\n",
       "  <tbody>\n",
       "    <tr>\n",
       "      <th>0</th>\n",
       "      <td>NaN</td>\n",
       "      <td>NaN</td>\n",
       "      <td>NaN</td>\n",
       "      <td>NaN</td>\n",
       "      <td>NaN</td>\n",
       "    </tr>\n",
       "    <tr>\n",
       "      <th>1</th>\n",
       "      <td>0.013189</td>\n",
       "      <td>-1.414516</td>\n",
       "      <td>0.411418</td>\n",
       "      <td>-3.087527</td>\n",
       "      <td>1.351252</td>\n",
       "    </tr>\n",
       "    <tr>\n",
       "      <th>2</th>\n",
       "      <td>0.613413</td>\n",
       "      <td>1.534033</td>\n",
       "      <td>1.390279</td>\n",
       "      <td>-5.975434</td>\n",
       "      <td>-1.886710</td>\n",
       "    </tr>\n",
       "    <tr>\n",
       "      <th>3</th>\n",
       "      <td>1.812498</td>\n",
       "      <td>-0.178371</td>\n",
       "      <td>-0.897899</td>\n",
       "      <td>15.515933</td>\n",
       "      <td>1.738603</td>\n",
       "    </tr>\n",
       "    <tr>\n",
       "      <th>4</th>\n",
       "      <td>-2.439099</td>\n",
       "      <td>0.058854</td>\n",
       "      <td>-0.903798</td>\n",
       "      <td>-6.452972</td>\n",
       "      <td>-1.203145</td>\n",
       "    </tr>\n",
       "  </tbody>\n",
       "</table>\n",
       "</div>"
      ],
      "text/plain": [
       "<div>\n",
       "<table border=\"1\" class=\"dataframe\">\n",
       "  <thead>\n",
       "    <tr style=\"text-align: right;\">\n",
       "      <th></th>\n",
       "      <th>a</th>\n",
       "      <th>b</th>\n",
       "      <th>c</th>\n",
       "      <th>d</th>\n",
       "      <th>e</th>\n",
       "    </tr>\n",
       "  </thead>\n",
       "  <tbody>\n",
       "    <tr>\n",
       "      <th>0</th>\n",
       "      <td>NaN</td>\n",
       "      <td>NaN</td>\n",
       "      <td>NaN</td>\n",
       "      <td>NaN</td>\n",
       "      <td>NaN</td>\n",
       "    </tr>\n",
       "    <tr>\n",
       "      <th>1</th>\n",
       "      <td>0.013189</td>\n",
       "      <td>-1.414516</td>\n",
       "      <td>0.411418</td>\n",
       "      <td>-3.087527</td>\n",
       "      <td>1.351252</td>\n",
       "    </tr>\n",
       "    <tr>\n",
       "      <th>2</th>\n",
       "      <td>0.613413</td>\n",
       "      <td>1.534033</td>\n",
       "      <td>1.390279</td>\n",
       "      <td>-5.975434</td>\n",
       "      <td>-1.886710</td>\n",
       "    </tr>\n",
       "    <tr>\n",
       "      <th>3</th>\n",
       "      <td>1.812498</td>\n",
       "      <td>-0.178371</td>\n",
       "      <td>-0.897899</td>\n",
       "      <td>15.515933</td>\n",
       "      <td>1.738603</td>\n",
       "    </tr>\n",
       "    <tr>\n",
       "      <th>4</th>\n",
       "      <td>-2.439099</td>\n",
       "      <td>0.058854</td>\n",
       "      <td>-0.903798</td>\n",
       "      <td>-6.452972</td>\n",
       "      <td>-1.203145</td>\n",
       "    </tr>\n",
       "  </tbody>\n",
       "</table>\n",
       "</div>"
      ]
     },
     "execution_count": 31,
     "metadata": {},
     "output_type": "execute_result"
    }
   ],
   "source": [
    "import pandas as pd\n",
    "import numpy as np\n",
    "from math import *\n",
    "\n",
    "s = pd.DataFrame(np.random.randn(5, 5), columns=[\"a\",\"b\",\"c\",\"d\",\"e\"])\n",
    "print(np.array(s.iloc[:, 0]).shape)\n",
    "print(s.pct_change())\n",
    "print(s.pct_change().mean())\n",
    "s.pct_change().subtract(s.pct_change().mean())"
   ]
  },
  {
   "cell_type": "code",
   "execution_count": 2,
   "metadata": {},
   "outputs": [
    {
     "ename": "NameError",
     "evalue": "name 'np' is not defined",
     "traceback": [
      "\u001b[1;31m---------------------------------------------------------------------------\u001b[0m",
      "\u001b[1;31mNameError\u001b[0m                                 Traceback (most recent call last)",
      "\u001b[1;32m<ipython-input-2-69325aa67324>\u001b[0m in \u001b[0;36m<module>\u001b[1;34m()\u001b[0m\n\u001b[1;32m----> 1\u001b[1;33m \u001b[0mc\u001b[0m \u001b[1;33m=\u001b[0m \u001b[0mnp\u001b[0m\u001b[1;33m.\u001b[0m\u001b[0mmultiply\u001b[0m\u001b[1;33m(\u001b[0m\u001b[0mnp\u001b[0m\u001b[1;33m.\u001b[0m\u001b[0mones\u001b[0m\u001b[1;33m(\u001b[0m\u001b[1;36m5\u001b[0m\u001b[1;33m)\u001b[0m\u001b[1;33m-\u001b[0m\u001b[0mnp\u001b[0m\u001b[1;33m.\u001b[0m\u001b[0meye\u001b[0m\u001b[1;33m(\u001b[0m\u001b[1;36m5\u001b[0m\u001b[1;33m)\u001b[0m\u001b[1;33m,\u001b[0m \u001b[0ms\u001b[0m\u001b[1;33m.\u001b[0m\u001b[0mcorr\u001b[0m\u001b[1;33m(\u001b[0m\u001b[1;33m)\u001b[0m\u001b[1;33m)\u001b[0m\u001b[1;33m\u001b[0m\u001b[0m\n\u001b[0m\u001b[0;32m      2\u001b[0m \u001b[0mnp\u001b[0m\u001b[1;33m.\u001b[0m\u001b[0mmultiply\u001b[0m\u001b[1;33m(\u001b[0m\u001b[0mnp\u001b[0m\u001b[1;33m.\u001b[0m\u001b[0mdiag\u001b[0m\u001b[1;33m(\u001b[0m\u001b[0ms\u001b[0m\u001b[1;33m)\u001b[0m\u001b[1;33m,\u001b[0m\u001b[0mnp\u001b[0m\u001b[1;33m.\u001b[0m\u001b[0meye\u001b[0m\u001b[1;33m(\u001b[0m\u001b[1;36m5\u001b[0m\u001b[1;33m)\u001b[0m\u001b[1;33m)\u001b[0m\u001b[1;33m\u001b[0m\u001b[0m\n\u001b[0;32m      3\u001b[0m \u001b[0mfund\u001b[0m\u001b[1;33m.\u001b[0m\u001b[0mget_nav\u001b[0m\u001b[1;33m(\u001b[0m\u001b[1;34m\"000011\"\u001b[0m\u001b[1;33m,\u001b[0m \u001b[1;34m\"2014-01-01\"\u001b[0m\u001b[1;33m,\u001b[0m \u001b[1;34m\"2017-06-01\"\u001b[0m\u001b[1;33m)\u001b[0m\u001b[1;33m\u001b[0m\u001b[0m\n",
      "\u001b[1;31mNameError\u001b[0m: name 'np' is not defined"
     ],
     "output_type": "error"
    }
   ],
   "source": [
    "c = np.multiply(np.ones(5)-np.eye(5), s.corr())\n",
    "np.multiply(np.diag(s),np.eye(5))"
   ]
  },
  {
   "cell_type": "code",
   "execution_count": 1,
   "metadata": {},
   "outputs": [
    {
     "data": {
      "text/plain": [
       "Instrument(symbol='大成景安短融债券B', fund_manager='张文平', round_lot=1.0, issuer='大成基金', de_listed_date='0000-00-00', latest_size=20495341.21, fund_type='Bond', benchmark='中债短融总指数', type='PublicFund', listed_date='2013-05-24', order_book_id='000129')"
      ]
     },
     "execution_count": 1,
     "metadata": {},
     "output_type": "execute_result"
    }
   ],
   "source": [
    "import rqdatac\n",
    "rqdatac.init('ricequant', '8ricequant8')\n",
    "rqdatac.fund.instruments(\"000129\")"
   ]
  },
  {
   "cell_type": "code",
   "execution_count": 48,
   "metadata": {},
   "outputs": [
    {
     "name": "stdout",
     "output_type": "stream",
     "text": [
      "2\n2\n8\n8\nNone\n"
     ]
    }
   ],
   "source": [
    "tt = list()\n",
    "for i in [2,1]:\n",
    "    test = lambda x_d = x: sum(x[t] for t in range(2*i)) - i\n",
    "    tt.append(test)\n",
    "x = [1,2,3,4,5,6,7,8,9,10]\n",
    "print(tt[0](x))\n",
    "print(tt[1](x))\n",
    "# A = [{\"fun\": test1}]\n",
    "# A.append({\"fun\": test2})\n",
    "# print(A)\n",
    "# print(A[0][\"fun\"](x))\n",
    "# print(A[1][\"fun\"](x))\n",
    "ttt = list()\n",
    "i = 0\n",
    "while i < 2:\n",
    "    test = lambda x_d = x: sum(x_d[t] for t in range(2*i)) - i\n",
    "    ttt.append(test)\n",
    "    i = i + 1\n",
    "print(ttt[0](x))\n",
    "print(ttt[1](x))\n",
    "a = None\n",
    "print(None)"
   ]
  },
  {
   "cell_type": "code",
   "execution_count": 38,
   "metadata": {},
   "outputs": [
    {
     "data": {
      "text/plain": [
       "[1, 2, 3]"
      ]
     },
     "execution_count": 38,
     "metadata": {},
     "output_type": "execute_result"
    }
   ],
   "source": [
    "opt_dict = {'risk_parity': 1,\n",
    "                'min_variance': 2,\n",
    "                'mean_variance': 3,\n",
    "                'risk_parity_with_con': 4,\n",
    "                \"min_TE\": 5,\n",
    "                'all': [1, 2, 3]}\n",
    "opt_dict[\"all\"]"
   ]
  },
  {
   "cell_type": "code",
   "execution_count": 7,
   "metadata": {},
   "outputs": [
    {
     "data": {
      "text/plain": [
       "-1"
      ]
     },
     "execution_count": 7,
     "metadata": {},
     "output_type": "execute_result"
    }
   ],
   "source": [
    "iprint, disp= 0, 1\n",
    "log_barrier_risk_parity_iprint = {0: -1, 1: 0, 2: 1}\n",
    "log_barrier_risk_parity_opts = {'iprint': log_barrier_risk_parity_iprint[iprint], 'disp': disp}\n",
    "log_barrier_risk_parity_opts[\"iprint\"]"
   ]
  }
 ],
 "metadata": {
  "kernelspec": {
   "display_name": "Python 2",
   "language": "python",
   "name": "python2"
  },
  "language_info": {
   "codemirror_mode": {
    "name": "ipython",
    "version": 2.0
   },
   "file_extension": ".py",
   "mimetype": "text/x-python",
   "name": "python",
   "nbconvert_exporter": "python",
   "pygments_lexer": "ipython2",
   "version": "2.7.6"
  }
 },
 "nbformat": 4,
 "nbformat_minor": 0
}