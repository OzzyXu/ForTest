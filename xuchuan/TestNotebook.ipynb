{
 "cells": [
  {
   "cell_type": "code",
   "execution_count": 31,
   "metadata": {
    "collapsed": false
   },
   "outputs": [
    {
     "name": "stdout",
     "output_type": "stream",
     "text": [
      "(5,)\n          a         b         c          d         e\n0       NaN       NaN       NaN        NaN       NaN\n1 -2.432695 -3.288493 -0.219119   1.921820 -0.681821\n2 -1.832471 -0.339944  0.759742  -0.966087 -3.919784\n3 -0.633387 -2.052347 -1.528437  20.525279 -0.294470\n4 -4.884984 -1.815123 -1.534335  -1.443625 -3.236219\na   -2.445884\nb   -1.873977\nc   -0.630537\nd    5.009347\ne   -2.033074\ndtype: float64\n"
     ]
    },
    {
     "data": {
      "text/html": [
       "<div>\n",
       "<table border=\"1\" class=\"dataframe\">\n",
       "  <thead>\n",
       "    <tr style=\"text-align: right;\">\n",
       "      <th></th>\n",
       "      <th>a</th>\n",
       "      <th>b</th>\n",
       "      <th>c</th>\n",
       "      <th>d</th>\n",
       "      <th>e</th>\n",
       "    </tr>\n",
       "  </thead>\n",
       "  <tbody>\n",
       "    <tr>\n",
       "      <th>0</th>\n",
       "      <td>NaN</td>\n",
       "      <td>NaN</td>\n",
       "      <td>NaN</td>\n",
       "      <td>NaN</td>\n",
       "      <td>NaN</td>\n",
       "    </tr>\n",
       "    <tr>\n",
       "      <th>1</th>\n",
       "      <td>0.013189</td>\n",
       "      <td>-1.414516</td>\n",
       "      <td>0.411418</td>\n",
       "      <td>-3.087527</td>\n",
       "      <td>1.351252</td>\n",
       "    </tr>\n",
       "    <tr>\n",
       "      <th>2</th>\n",
       "      <td>0.613413</td>\n",
       "      <td>1.534033</td>\n",
       "      <td>1.390279</td>\n",
       "      <td>-5.975434</td>\n",
       "      <td>-1.886710</td>\n",
       "    </tr>\n",
       "    <tr>\n",
       "      <th>3</th>\n",
       "      <td>1.812498</td>\n",
       "      <td>-0.178371</td>\n",
       "      <td>-0.897899</td>\n",
       "      <td>15.515933</td>\n",
       "      <td>1.738603</td>\n",
       "    </tr>\n",
       "    <tr>\n",
       "      <th>4</th>\n",
       "      <td>-2.439099</td>\n",
       "      <td>0.058854</td>\n",
       "      <td>-0.903798</td>\n",
       "      <td>-6.452972</td>\n",
       "      <td>-1.203145</td>\n",
       "    </tr>\n",
       "  </tbody>\n",
       "</table>\n",
       "</div>"
      ],
      "text/plain": [
       "<div>\n",
       "<table border=\"1\" class=\"dataframe\">\n",
       "  <thead>\n",
       "    <tr style=\"text-align: right;\">\n",
       "      <th></th>\n",
       "      <th>a</th>\n",
       "      <th>b</th>\n",
       "      <th>c</th>\n",
       "      <th>d</th>\n",
       "      <th>e</th>\n",
       "    </tr>\n",
       "  </thead>\n",
       "  <tbody>\n",
       "    <tr>\n",
       "      <th>0</th>\n",
       "      <td>NaN</td>\n",
       "      <td>NaN</td>\n",
       "      <td>NaN</td>\n",
       "      <td>NaN</td>\n",
       "      <td>NaN</td>\n",
       "    </tr>\n",
       "    <tr>\n",
       "      <th>1</th>\n",
       "      <td>0.013189</td>\n",
       "      <td>-1.414516</td>\n",
       "      <td>0.411418</td>\n",
       "      <td>-3.087527</td>\n",
       "      <td>1.351252</td>\n",
       "    </tr>\n",
       "    <tr>\n",
       "      <th>2</th>\n",
       "      <td>0.613413</td>\n",
       "      <td>1.534033</td>\n",
       "      <td>1.390279</td>\n",
       "      <td>-5.975434</td>\n",
       "      <td>-1.886710</td>\n",
       "    </tr>\n",
       "    <tr>\n",
       "      <th>3</th>\n",
       "      <td>1.812498</td>\n",
       "      <td>-0.178371</td>\n",
       "      <td>-0.897899</td>\n",
       "      <td>15.515933</td>\n",
       "      <td>1.738603</td>\n",
       "    </tr>\n",
       "    <tr>\n",
       "      <th>4</th>\n",
       "      <td>-2.439099</td>\n",
       "      <td>0.058854</td>\n",
       "      <td>-0.903798</td>\n",
       "      <td>-6.452972</td>\n",
       "      <td>-1.203145</td>\n",
       "    </tr>\n",
       "  </tbody>\n",
       "</table>\n",
       "</div>"
      ]
     },
     "execution_count": 31,
     "metadata": {},
     "output_type": "execute_result"
    }
   ],
   "source": [
    "import pandas as pd\n",
    "import numpy as np\n",
    "from math import *\n",
    "\n",
    "s = pd.DataFrame(np.random.randn(5, 5), columns=[\"a\",\"b\",\"c\",\"d\",\"e\"])\n",
    "print(np.array(s.iloc[:, 0]).shape)\n",
    "print(s.pct_change())\n",
    "print(s.pct_change().mean())\n",
    "s.pct_change().subtract(s.pct_change().mean())"
   ]
  },
  {
   "cell_type": "code",
   "execution_count": 175,
   "metadata": {},
   "outputs": [
    {
     "data": {
      "text/plain": [
       "array([[-0.08827091,  0.        , -0.        , -0.        , -0.        ],\n       [-0.        ,  0.45731929, -0.        , -0.        , -0.        ],\n       [-0.        ,  0.        , -1.28651277, -0.        , -0.        ],\n       [-0.        ,  0.        , -0.        , -0.08871024, -0.        ],\n       [-0.        ,  0.        , -0.        , -0.        , -0.02206545]])"
      ]
     },
     "execution_count": 175,
     "metadata": {},
     "output_type": "execute_result"
    }
   ],
   "source": [
    "c = np.multiply(np.ones(5)-np.eye(5), s.corr())\n",
    "np.multiply(np.diag(s),np.eye(5))"
   ]
  }
 ],
 "metadata": {
  "kernelspec": {
   "display_name": "Python 2",
   "language": "python",
   "name": "python2"
  },
  "language_info": {
   "codemirror_mode": {
    "name": "ipython",
    "version": 2.0
   },
   "file_extension": ".py",
   "mimetype": "text/x-python",
   "name": "python",
   "nbconvert_exporter": "python",
   "pygments_lexer": "ipython2",
   "version": "2.7.6"
  }
 },
 "nbformat": 4,
 "nbformat_minor": 0
}