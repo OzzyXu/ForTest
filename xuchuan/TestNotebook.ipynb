{
 "cells": [
  {
   "cell_type": "code",
   "execution_count": 31,
   "metadata": {
    "collapsed": false
   },
   "outputs": [
    {
     "name": "stdout",
     "output_type": "stream",
     "text": [
      "(5,)\n          a         b         c          d         e\n0       NaN       NaN       NaN        NaN       NaN\n1 -2.432695 -3.288493 -0.219119   1.921820 -0.681821\n2 -1.832471 -0.339944  0.759742  -0.966087 -3.919784\n3 -0.633387 -2.052347 -1.528437  20.525279 -0.294470\n4 -4.884984 -1.815123 -1.534335  -1.443625 -3.236219\na   -2.445884\nb   -1.873977\nc   -0.630537\nd    5.009347\ne   -2.033074\ndtype: float64\n"
     ]
    },
    {
     "data": {
      "text/html": [
       "<div>\n",
       "<table border=\"1\" class=\"dataframe\">\n",
       "  <thead>\n",
       "    <tr style=\"text-align: right;\">\n",
       "      <th></th>\n",
       "      <th>a</th>\n",
       "      <th>b</th>\n",
       "      <th>c</th>\n",
       "      <th>d</th>\n",
       "      <th>e</th>\n",
       "    </tr>\n",
       "  </thead>\n",
       "  <tbody>\n",
       "    <tr>\n",
       "      <th>0</th>\n",
       "      <td>NaN</td>\n",
       "      <td>NaN</td>\n",
       "      <td>NaN</td>\n",
       "      <td>NaN</td>\n",
       "      <td>NaN</td>\n",
       "    </tr>\n",
       "    <tr>\n",
       "      <th>1</th>\n",
       "      <td>0.013189</td>\n",
       "      <td>-1.414516</td>\n",
       "      <td>0.411418</td>\n",
       "      <td>-3.087527</td>\n",
       "      <td>1.351252</td>\n",
       "    </tr>\n",
       "    <tr>\n",
       "      <th>2</th>\n",
       "      <td>0.613413</td>\n",
       "      <td>1.534033</td>\n",
       "      <td>1.390279</td>\n",
       "      <td>-5.975434</td>\n",
       "      <td>-1.886710</td>\n",
       "    </tr>\n",
       "    <tr>\n",
       "      <th>3</th>\n",
       "      <td>1.812498</td>\n",
       "      <td>-0.178371</td>\n",
       "      <td>-0.897899</td>\n",
       "      <td>15.515933</td>\n",
       "      <td>1.738603</td>\n",
       "    </tr>\n",
       "    <tr>\n",
       "      <th>4</th>\n",
       "      <td>-2.439099</td>\n",
       "      <td>0.058854</td>\n",
       "      <td>-0.903798</td>\n",
       "      <td>-6.452972</td>\n",
       "      <td>-1.203145</td>\n",
       "    </tr>\n",
       "  </tbody>\n",
       "</table>\n",
       "</div>"
      ],
      "text/plain": [
       "<div>\n",
       "<table border=\"1\" class=\"dataframe\">\n",
       "  <thead>\n",
       "    <tr style=\"text-align: right;\">\n",
       "      <th></th>\n",
       "      <th>a</th>\n",
       "      <th>b</th>\n",
       "      <th>c</th>\n",
       "      <th>d</th>\n",
       "      <th>e</th>\n",
       "    </tr>\n",
       "  </thead>\n",
       "  <tbody>\n",
       "    <tr>\n",
       "      <th>0</th>\n",
       "      <td>NaN</td>\n",
       "      <td>NaN</td>\n",
       "      <td>NaN</td>\n",
       "      <td>NaN</td>\n",
       "      <td>NaN</td>\n",
       "    </tr>\n",
       "    <tr>\n",
       "      <th>1</th>\n",
       "      <td>0.013189</td>\n",
       "      <td>-1.414516</td>\n",
       "      <td>0.411418</td>\n",
       "      <td>-3.087527</td>\n",
       "      <td>1.351252</td>\n",
       "    </tr>\n",
       "    <tr>\n",
       "      <th>2</th>\n",
       "      <td>0.613413</td>\n",
       "      <td>1.534033</td>\n",
       "      <td>1.390279</td>\n",
       "      <td>-5.975434</td>\n",
       "      <td>-1.886710</td>\n",
       "    </tr>\n",
       "    <tr>\n",
       "      <th>3</th>\n",
       "      <td>1.812498</td>\n",
       "      <td>-0.178371</td>\n",
       "      <td>-0.897899</td>\n",
       "      <td>15.515933</td>\n",
       "      <td>1.738603</td>\n",
       "    </tr>\n",
       "    <tr>\n",
       "      <th>4</th>\n",
       "      <td>-2.439099</td>\n",
       "      <td>0.058854</td>\n",
       "      <td>-0.903798</td>\n",
       "      <td>-6.452972</td>\n",
       "      <td>-1.203145</td>\n",
       "    </tr>\n",
       "  </tbody>\n",
       "</table>\n",
       "</div>"
      ]
     },
     "execution_count": 31,
     "metadata": {},
     "output_type": "execute_result"
    }
   ],
   "source": [
    "import pandas as pd\n",
    "import numpy as np\n",
    "from math import *\n",
    "\n",
    "s = pd.DataFrame(np.random.randn(5, 5), columns=[\"a\",\"b\",\"c\",\"d\",\"e\"])\n",
    "print(np.array(s.iloc[:, 0]).shape)\n",
    "print(s.pct_change())\n",
    "print(s.pct_change().mean())\n",
    "s.pct_change().subtract(s.pct_change().mean())"
   ]
  },
  {
   "cell_type": "code",
   "execution_count": 2,
   "metadata": {},
   "outputs": [
    {
     "ename": "NameError",
     "evalue": "name 'np' is not defined",
     "traceback": [
      "\u001b[1;31m---------------------------------------------------------------------------\u001b[0m",
      "\u001b[1;31mNameError\u001b[0m                                 Traceback (most recent call last)",
      "\u001b[1;32m<ipython-input-2-69325aa67324>\u001b[0m in \u001b[0;36m<module>\u001b[1;34m()\u001b[0m\n\u001b[1;32m----> 1\u001b[1;33m \u001b[0mc\u001b[0m \u001b[1;33m=\u001b[0m \u001b[0mnp\u001b[0m\u001b[1;33m.\u001b[0m\u001b[0mmultiply\u001b[0m\u001b[1;33m(\u001b[0m\u001b[0mnp\u001b[0m\u001b[1;33m.\u001b[0m\u001b[0mones\u001b[0m\u001b[1;33m(\u001b[0m\u001b[1;36m5\u001b[0m\u001b[1;33m)\u001b[0m\u001b[1;33m-\u001b[0m\u001b[0mnp\u001b[0m\u001b[1;33m.\u001b[0m\u001b[0meye\u001b[0m\u001b[1;33m(\u001b[0m\u001b[1;36m5\u001b[0m\u001b[1;33m)\u001b[0m\u001b[1;33m,\u001b[0m \u001b[0ms\u001b[0m\u001b[1;33m.\u001b[0m\u001b[0mcorr\u001b[0m\u001b[1;33m(\u001b[0m\u001b[1;33m)\u001b[0m\u001b[1;33m)\u001b[0m\u001b[1;33m\u001b[0m\u001b[0m\n\u001b[0m\u001b[0;32m      2\u001b[0m \u001b[0mnp\u001b[0m\u001b[1;33m.\u001b[0m\u001b[0mmultiply\u001b[0m\u001b[1;33m(\u001b[0m\u001b[0mnp\u001b[0m\u001b[1;33m.\u001b[0m\u001b[0mdiag\u001b[0m\u001b[1;33m(\u001b[0m\u001b[0ms\u001b[0m\u001b[1;33m)\u001b[0m\u001b[1;33m,\u001b[0m\u001b[0mnp\u001b[0m\u001b[1;33m.\u001b[0m\u001b[0meye\u001b[0m\u001b[1;33m(\u001b[0m\u001b[1;36m5\u001b[0m\u001b[1;33m)\u001b[0m\u001b[1;33m)\u001b[0m\u001b[1;33m\u001b[0m\u001b[0m\n\u001b[0;32m      3\u001b[0m \u001b[0mfund\u001b[0m\u001b[1;33m.\u001b[0m\u001b[0mget_nav\u001b[0m\u001b[1;33m(\u001b[0m\u001b[1;34m\"000011\"\u001b[0m\u001b[1;33m,\u001b[0m \u001b[1;34m\"2014-01-01\"\u001b[0m\u001b[1;33m,\u001b[0m \u001b[1;34m\"2017-06-01\"\u001b[0m\u001b[1;33m)\u001b[0m\u001b[1;33m\u001b[0m\u001b[0m\n",
      "\u001b[1;31mNameError\u001b[0m: name 'np' is not defined"
     ],
     "output_type": "error"
    }
   ],
   "source": [
    "c = np.multiply(np.ones(5)-np.eye(5), s.corr())\n",
    "np.multiply(np.diag(s),np.eye(5))"
   ]
  },
  {
   "cell_type": "code",
   "execution_count": 9,
   "metadata": {},
   "outputs": [
    {
     "data": {
      "text/plain": [
       "2014-01-02       Open\n2014-01-03       Open\n2014-01-06       Open\n2014-01-07       Open\n2014-01-08       Open\n2014-01-09       Open\n2014-01-10       Open\n2014-01-13       Open\n2014-01-14       Open\n2014-01-15       Open\n2014-01-16       Open\n2014-01-17       Open\n2014-01-20       Open\n2014-01-21       Open\n2014-01-22       Open\n2014-01-23       Open\n2014-01-24       Open\n2014-01-27       Open\n2014-01-28       Open\n2014-01-29       Open\n2014-01-30       Open\n2014-02-07       Open\n2014-02-10       Open\n2014-02-11       Open\n2014-02-12       Open\n2014-02-13       Open\n2014-02-14       Open\n2014-02-17       Open\n2014-02-18       Open\n2014-02-19       Open\n               ...   \n2017-04-18    Limited\n2017-04-19    Limited\n2017-04-20    Limited\n2017-04-21    Limited\n2017-04-24    Limited\n2017-04-25    Limited\n2017-04-26    Limited\n2017-04-27    Limited\n2017-04-28    Limited\n2017-05-02    Limited\n2017-05-03    Limited\n2017-05-04    Limited\n2017-05-05    Limited\n2017-05-08    Limited\n2017-05-09    Limited\n2017-05-10    Limited\n2017-05-11    Limited\n2017-05-12    Limited\n2017-05-15    Limited\n2017-05-16    Limited\n2017-05-17    Limited\n2017-05-18    Limited\n2017-05-19    Limited\n2017-05-22    Limited\n2017-05-23    Limited\n2017-05-24    Limited\n2017-05-25    Limited\n2017-05-26    Limited\n2017-05-31    Limited\n2017-06-01    Limited\nName: subscribe_status, dtype: object"
      ]
     },
     "execution_count": 9,
     "metadata": {},
     "output_type": "execute_result"
    }
   ],
   "source": [
    "import rqdatac\n",
    "rqdatac.init('ricequant', '8ricequant8')\n",
    "rqdatac.fund.get_nav(\"000129\", \"2014-01-01\", \"2017-06-01\").subscribe_status"
   ]
  }
 ],
 "metadata": {
  "kernelspec": {
   "display_name": "Python 2",
   "language": "python",
   "name": "python2"
  },
  "language_info": {
   "codemirror_mode": {
    "name": "ipython",
    "version": 2.0
   },
   "file_extension": ".py",
   "mimetype": "text/x-python",
   "name": "python",
   "nbconvert_exporter": "python",
   "pygments_lexer": "ipython2",
   "version": "2.7.6"
  }
 },
 "nbformat": 4,
 "nbformat_minor": 0
}